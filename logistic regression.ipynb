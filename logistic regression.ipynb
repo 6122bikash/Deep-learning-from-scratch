{
 "cells": [
  {
   "cell_type": "code",
   "execution_count": 7,
   "metadata": {},
   "outputs": [
    {
     "data": {
      "text/plain": [
       "['.git',\n",
       " '.ipynb_checkpoints',\n",
       " 'logistic regression.ipynb',\n",
       " 'README.md',\n",
       " 't10k-images-idx3-ubyte.gz',\n",
       " 't10k-labels-idx1-ubyte.gz',\n",
       " 'train-images-idx3-ubyte.gz',\n",
       " 'train-labels-idx1-ubyte.gz']"
      ]
     },
     "execution_count": 7,
     "metadata": {},
     "output_type": "execute_result"
    }
   ],
   "source": [
    "import gzip\n",
    "import urllib\n",
    "import os\n",
    "import numpy as np\n",
    "os.listdir()"
   ]
  },
  {
   "cell_type": "code",
   "execution_count": 34,
   "metadata": {},
   "outputs": [],
   "source": [
    "def load_dataset():\n",
    "    #----------------downloads necessary files if not in directory---------------------------    \n",
    "    link='http://yann.lecun.com/exdb/mnist/'\n",
    "    filenames=['train-images-idx3-ubyte.gz','train-labels-idx1-ubyte.gz','t10k-images-idx3-ubyte.gz','t10k-labels-idx1-ubyte.gz']\n",
    "    for filename in filenames:\n",
    "        if filename not in os.listdir():\n",
    "            print('downloading '+str(filename))\n",
    "            urllib.request.urlretrieve(link+filename, filename)\n",
    "            \n",
    "    #---------------------load datasets from file in directory-------------------------------\n",
    "\n",
    "    def load_image(filename):\n",
    "        with gzip.open(filename,'rb') as f:\n",
    "            buffer=f.read()\n",
    "            data=np.frombuffer(buffer,dtype=np.int8,offset=16)\n",
    "            data=data.reshape(-1,28,28)  \n",
    "        return data\n",
    "\n",
    "    def load_label(filename):\n",
    "        with gzip.open(filename,'rb') as f:\n",
    "            buffer=f.read()\n",
    "            data=np.frombuffer(buffer,dtype=np.int8,offset=8)\n",
    "        return data\n",
    "\n",
    "    x_train=load_image(filenames[0])\n",
    "    y_train=load_label(filenames[1])\n",
    "    x_test=load_image(filenames[2])\n",
    "    y_test=load_label(filenames[3])\n",
    "    return x_train,y_train,x_test,y_test\n",
    "\n",
    "\n",
    "    "
   ]
  },
  {
   "cell_type": "code",
   "execution_count": null,
   "metadata": {},
   "outputs": [],
   "source": []
  }
 ],
 "metadata": {
  "kernelspec": {
   "display_name": "Python 3",
   "language": "python",
   "name": "python3"
  },
  "language_info": {
   "codemirror_mode": {
    "name": "ipython",
    "version": 3
   },
   "file_extension": ".py",
   "mimetype": "text/x-python",
   "name": "python",
   "nbconvert_exporter": "python",
   "pygments_lexer": "ipython3",
   "version": "3.7.4"
  }
 },
 "nbformat": 4,
 "nbformat_minor": 2
}
