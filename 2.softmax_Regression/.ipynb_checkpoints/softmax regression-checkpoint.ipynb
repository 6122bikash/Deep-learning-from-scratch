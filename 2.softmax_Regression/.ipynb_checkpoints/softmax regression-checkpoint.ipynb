{
 "cells": [
  {
   "cell_type": "code",
   "execution_count": 163,
   "metadata": {},
   "outputs": [
    {
     "data": {
      "text/plain": [
       "['.ipynb_checkpoints', 'softmax regression.ipynb']"
      ]
     },
     "execution_count": 163,
     "metadata": {},
     "output_type": "execute_result"
    }
   ],
   "source": [
    "import gzip\n",
    "import urllib\n",
    "import os\n",
    "import numpy as np\n",
    "os.listdir()"
   ]
  },
  {
   "cell_type": "code",
   "execution_count": 164,
   "metadata": {},
   "outputs": [],
   "source": [
    "def load_dataset():\n",
    "    #----------------downloads necessary files if not in directory---------------------------    \n",
    "    link='http://yann.lecun.com/exdb/mnist/'\n",
    "    filenames=['train-images-idx3-ubyte.gz','train-labels-idx1-ubyte.gz','t10k-images-idx3-ubyte.gz','t10k-labels-idx1-ubyte.gz']\n",
    "    directory='../datasets/mnist_dataset/'\n",
    "    for filename in filenames:\n",
    "        if filename not in os.listdir(directory):\n",
    "            print('downloading '+str(filename))\n",
    "            urllib.request.urlretrieve(link+filename, filename)\n",
    "            \n",
    "    #---------------------load datasets from file in directory-------------------------------\n",
    "\n",
    "    def load_image(filename):\n",
    "        with gzip.open(directory+filename,'rb') as f:\n",
    "            buffer=f.read()\n",
    "            data=np.frombuffer(buffer,dtype=np.uint8,offset=16)\n",
    "            data=data.reshape(-1,28,28)  \n",
    "        return data\n",
    "\n",
    "    def load_label(filename):\n",
    "        with gzip.open(directory+filename,'rb') as f:\n",
    "            buffer=f.read()\n",
    "            data=np.frombuffer(buffer,dtype=np.uint8,offset=8)\n",
    "        return data\n",
    "    \n",
    "    \n",
    "    x_train=load_image(filenames[0])\n",
    "    y_train=load_label(filenames[1])\n",
    "    x_test=load_image(filenames[2])\n",
    "    y_test=load_label(filenames[3])\n",
    "    return x_train,y_train,x_test,y_test\n",
    "\n",
    "\n",
    "    "
   ]
  },
  {
   "cell_type": "code",
   "execution_count": 165,
   "metadata": {},
   "outputs": [
    {
     "data": {
      "image/png": "[encoded data removed]",
      "text/plain": [
       "<Figure size 432x288 with 1 Axes>"
      ]
     },
     "metadata": {
      "needs_background": "light"
     },
     "output_type": "display_data"
    },
    {
     "name": "stdout",
     "output_type": "stream",
     "text": [
      "Its label:  5\n",
      "x_test_shape: (784, 10000)\n",
      "y_test_shape: (1, 10000)\n",
      "x_train_shape: (784, 60000)\n",
      "y_train.shape: (1, 60000)\n"
     ]
    }
   ],
   "source": [
    "x_train,y_train,x_test,y_test=load_dataset()\n",
    "\n",
    "#plot check\n",
    "import matplotlib.pyplot as plt\n",
    "plt.imshow(x_train[0],cmap='gray')\n",
    "plt.show()\n",
    "print('Its label: ',y_train[0])\n",
    "\n",
    "#flatten\n",
    "x_train=x_train.reshape((-1,np.product(x_train.shape[1:]))).T\n",
    "x_test=x_test.reshape((-1,np.product(x_test.shape[1:]))).T\n",
    "y_train=y_train.reshape(1,-1)\n",
    "y_test=y_test.reshape(1,-1)\n",
    "\n",
    "\n",
    "print('x_test_shape:',x_test.shape)\n",
    "print('y_test_shape:',y_test.shape)\n",
    "print('x_train_shape:',x_train.shape)\n",
    "print('y_train.shape:',y_train.shape)\n",
    "\n",
    "#normalize\n",
    "x_train=x_train/float(256)\n",
    "x_test=x_test/float(256)"
   ]
  },
  {
   "cell_type": "code",
   "execution_count": 166,
   "metadata": {},
   "outputs": [],
   "source": [
    "def softmax_activation(Z):\n",
    "    print(np.sum(np.exp(Z)))\n",
    "    A=np.exp(Z)/np.sum(np.exp(Z))\n",
    "    return A"
   ]
  },
  {
   "cell_type": "code",
   "execution_count": 167,
   "metadata": {},
   "outputs": [],
   "source": [
    "def initialize_parameters(input_size,ouput_size):\n",
    "    w=np.zeros((input_size,output_size))\n",
    "    b=np.zeros((output_size,1))\n",
    "    parameters=(w,b)\n",
    "    return parameters"
   ]
  },
  {
   "cell_type": "code",
   "execution_count": 168,
   "metadata": {},
   "outputs": [],
   "source": [
    "def compute_cost(X,Y,parameters):\n",
    "    m=X.shape[1]\n",
    "    w,b=parameters\n",
    "    Z=np.dot(w.T,X)+b\n",
    "    A=softmax_activation(Z)\n",
    "    \n",
    "    cost=-1/m*np.sum(Y*np.log(A)+(1-Y)*np.log(1-A),axis=1)\n",
    "    return cost,A"
   ]
  },
  {
   "cell_type": "code",
   "execution_count": 169,
   "metadata": {},
   "outputs": [],
   "source": [
    "def backward_propagation(parameters,A,cost,X,Y):\n",
    "    m=Y.shape[1]\n",
    "    dZ=A-Y\n",
    "    dw=1/m*np.dot(X,dZ.T)\n",
    "    db=1/m*np.sum(dZ)\n",
    "    gradients=(dw,db)\n",
    "    return gradients"
   ]
  },
  {
   "cell_type": "code",
   "execution_count": 170,
   "metadata": {},
   "outputs": [],
   "source": [
    "def optimize(X,Y,parameters,n_iterations,learning_rate):\n",
    "    w,b=parameters\n",
    "    for i in range(n_iterations):\n",
    "        cost,A=compute_cost(X,Y,parameters)\n",
    "        gradients=backward_propagation(parameters,A,cost,X,Y)\n",
    "        dw,db=gradients\n",
    "        \n",
    "        w=w-learning_rate*dw\n",
    "        b=b-learning_rate*db\n",
    "        parameters=(w,b)\n",
    "        \n",
    "        if(i%10==0):\n",
    "            print('iteration:',i)\n",
    "            print('cost:',cost)\n",
    "            \n",
    "        parameter=(w,b)\n",
    "        return parameter\n",
    "        "
   ]
  },
  {
   "cell_type": "code",
   "execution_count": 177,
   "metadata": {},
   "outputs": [],
   "source": [
    "def predict(X,parameters):\n",
    "    w,b=parameters\n",
    "    m=X.shape[1]\n",
    "    Z=np.dot(w.T,X)+b\n",
    "    A=softmax_activation(Z)\n",
    "    \n",
    "    y_prediction=np.argmax(A,axis=1)\n",
    "    return y_prediction\n",
    "    "
   ]
  },
  {
   "cell_type": "code",
   "execution_count": 178,
   "metadata": {},
   "outputs": [
    {
     "name": "stdout",
     "output_type": "stream",
     "text": [
      "iteration: 0\n",
      "cost: [59.25851057 59.25851057 59.25851057 59.25851057 59.25851057 59.25851057\n",
      " 59.25851057 59.25851057 59.25851057 59.25851057]\n"
     ]
    },
    {
     "name": "stderr",
     "output_type": "stream",
     "text": [
      "c:\\users\\bikas\\appdata\\local\\programs\\python\\python37\\lib\\site-packages\\ipykernel_launcher.py:10: DeprecationWarning: elementwise comparison failed; this will raise an error in the future.\n",
      "  # Remove the CWD from sys.path while we load stuff.\n",
      "c:\\users\\bikas\\appdata\\local\\programs\\python\\python37\\lib\\site-packages\\ipykernel_launcher.py:11: DeprecationWarning: elementwise comparison failed; this will raise an error in the future.\n",
      "  # This is added back by InteractiveShellApp.init_path()\n"
     ]
    }
   ],
   "source": [
    "n_iteration=1000\n",
    "learning_rate=0.001\n",
    "input_size=x_train.shape[0]\n",
    "output_size=10\n",
    "parameters=initialize_parameters(input_size,output_size)\n",
    "parameters=optimize(x_train,y_train,parameters,n_iteration,learning_rate)\n",
    "y_prediction_train=predict(x_train,parameters)\n",
    "y_prediction_test=predict(x_test,parameters)\n",
    "\n",
    "train_acc=np.mean(y_train==y_prediction_train)*100\n",
    "test_acc=np.mean(y_test==y_prediction_test)*100"
   ]
  },
  {
   "cell_type": "code",
   "execution_count": 179,
   "metadata": {},
   "outputs": [
    {
     "data": {
      "text/plain": [
       "(1, 60000)"
      ]
     },
     "execution_count": 179,
     "metadata": {},
     "output_type": "execute_result"
    }
   ],
   "source": [
    "y_train.shape"
   ]
  },
  {
   "cell_type": "code",
   "execution_count": 174,
   "metadata": {},
   "outputs": [
    {
     "data": {
      "text/plain": [
       "5874"
      ]
     },
     "execution_count": 174,
     "metadata": {},
     "output_type": "execute_result"
    }
   ],
   "source": [
    "np.sum(y_train==y_prediction_train)"
   ]
  },
  {
   "cell_type": "code",
   "execution_count": 175,
   "metadata": {},
   "outputs": [
    {
     "data": {
      "text/plain": [
       "9.71"
      ]
     },
     "execution_count": 175,
     "metadata": {},
     "output_type": "execute_result"
    }
   ],
   "source": [
    "test_acc"
   ]
  },
  {
   "cell_type": "code",
   "execution_count": null,
   "metadata": {},
   "outputs": [],
   "source": []
  }
 ],
 "metadata": {
  "kernelspec": {
   "display_name": "Python 3",
   "language": "python",
   "name": "python3"
  },
  "language_info": {
   "codemirror_mode": {
    "name": "ipython",
    "version": 3
   },
   "file_extension": ".py",
   "mimetype": "text/x-python",
   "name": "python",
   "nbconvert_exporter": "python",
   "pygments_lexer": "ipython3",
   "version": "3.7.4"
  }
 },
 "nbformat": 4,
 "nbformat_minor": 2
}
