{
 "cells": [
  {
   "cell_type": "code",
   "execution_count": 1,
   "metadata": {},
   "outputs": [
    {
     "data": {
      "text/plain": [
       "['.ipynb_checkpoints', 'softmax regression.ipynb']"
      ]
     },
     "execution_count": 1,
     "metadata": {},
     "output_type": "execute_result"
    }
   ],
   "source": [
    "import gzip\n",
    "import urllib\n",
    "import os\n",
    "import numpy as np\n",
    "os.listdir()"
   ]
  },
  {
   "cell_type": "code",
   "execution_count": 2,
   "metadata": {},
   "outputs": [],
   "source": [
    "def load_dataset():\n",
    "    #----------------downloads necessary files if not in directory---------------------------    \n",
    "    link='http://yann.lecun.com/exdb/mnist/'\n",
    "    filenames=['train-images-idx3-ubyte.gz','train-labels-idx1-ubyte.gz','t10k-images-idx3-ubyte.gz','t10k-labels-idx1-ubyte.gz']\n",
    "    directory='../datasets/mnist_dataset/'\n",
    "    for filename in filenames:\n",
    "        if filename not in os.listdir(directory):\n",
    "            print('downloading '+str(filename))\n",
    "            urllib.request.urlretrieve(link+filename, filename)\n",
    "            \n",
    "    #---------------------load datasets from file in directory-------------------------------\n",
    "\n",
    "    def load_image(filename):\n",
    "        with gzip.open(directory+filename,'rb') as f:\n",
    "            buffer=f.read()\n",
    "            data=np.frombuffer(buffer,dtype=np.uint8,offset=16)\n",
    "            data=data.reshape(-1,28,28)  \n",
    "        return data\n",
    "\n",
    "    def load_label(filename):\n",
    "        with gzip.open(directory+filename,'rb') as f:\n",
    "            buffer=f.read()\n",
    "            data=np.frombuffer(buffer,dtype=np.uint8,offset=8)\n",
    "        return data\n",
    "    \n",
    "    \n",
    "    x_train=load_image(filenames[0])\n",
    "    y_train=load_label(filenames[1])\n",
    "    x_test=load_image(filenames[2])\n",
    "    y_test=load_label(filenames[3])\n",
    "    return x_train,y_train,x_test,y_test\n",
    "\n",
    "\n",
    "    "
   ]
  },
  {
   "cell_type": "code",
   "execution_count": 3,
   "metadata": {},
   "outputs": [
    {
     "data": {
      "text/plain": [
       "<Figure size 640x480 with 1 Axes>"
      ]
     },
     "metadata": {},
     "output_type": "display_data"
    },
    {
     "name": "stdout",
     "output_type": "stream",
     "text": [
      "Its label:  5\n",
      "x_test_shape: (784, 10000)\n",
      "y_test_shape: (10, 10000)\n",
      "x_train_shape: (784, 60000)\n",
      "y_train.shape: (10, 60000)\n"
     ]
    }
   ],
   "source": [
    "x_train,y_train,x_test,y_test=load_dataset()\n",
    "\n",
    "#plot check\n",
    "import matplotlib.pyplot as plt\n",
    "plt.imshow(x_train[0],cmap='gray')\n",
    "plt.show()\n",
    "print('Its label: ',y_train[0])\n",
    "y_test=np.eye(10)[y_test]\n",
    "y_train=np.eye(10)[y_train]\n",
    "#flatten\n",
    "x_train=x_train.reshape((-1,np.product(x_train.shape[1:]))).T\n",
    "x_test=x_test.reshape((-1,np.product(x_test.shape[1:]))).T\n",
    "y_train=y_train.T\n",
    "y_test=y_test.T\n",
    "\n",
    "\n",
    "print('x_test_shape:',x_test.shape)\n",
    "print('y_test_shape:',y_test.shape)\n",
    "print('x_train_shape:',x_train.shape)\n",
    "print('y_train.shape:',y_train.shape)\n",
    "\n",
    "#normalize\n",
    "x_train=x_train/float(256)\n",
    "x_test=x_test/float(256)"
   ]
  },
  {
   "cell_type": "code",
   "execution_count": 27,
   "metadata": {},
   "outputs": [],
   "source": [
    "def softmax_activation(Z):\n",
    "    A=np.exp(Z)/np.sum(np.exp(Z),axis=0)\n",
    "    return A"
   ]
  },
  {
   "cell_type": "code",
   "execution_count": 28,
   "metadata": {},
   "outputs": [],
   "source": [
    "def initialize_parameters(input_size,output_size):\n",
    "    w=np.zeros((input_size,output_size))\n",
    "    b=np.zeros((output_size,1))\n",
    "    parameters=(w,b)\n",
    "    return parameters"
   ]
  },
  {
   "cell_type": "code",
   "execution_count": 29,
   "metadata": {},
   "outputs": [],
   "source": [
    "def compute_cost(X,Y,parameters):\n",
    "    m=X.shape[1]\n",
    "    w,b=parameters\n",
    "    Z=np.dot(w.T,X)+b\n",
    "    A=softmax_activation(Z)\n",
    " \n",
    "    cost=1/m*np.sum(-np.sum(Y*np.log(A),axis=0))\n",
    "    return cost,A"
   ]
  },
  {
   "cell_type": "code",
   "execution_count": 30,
   "metadata": {},
   "outputs": [],
   "source": [
    "def backward_propagation(parameters,A,cost,X,Y):\n",
    "    m=Y.shape[1]\n",
    "    dZ=A-Y\n",
    "    dw=1/m*np.dot(X,dZ.T)\n",
    "    db=1/m*np.sum(dZ)\n",
    "    gradients=(dw,db)\n",
    "    return gradients"
   ]
  },
  {
   "cell_type": "code",
   "execution_count": 31,
   "metadata": {},
   "outputs": [],
   "source": [
    "def optimize(X,Y,parameters,n_iterations,learning_rate):\n",
    "    w,b=parameters\n",
    "    for i in range(n_iterations):\n",
    "        cost,A=compute_cost(X,Y,parameters)\n",
    "        gradients=backward_propagation(parameters,A,cost,X,Y)\n",
    "        dw,db=gradients\n",
    "        \n",
    "        w=w-learning_rate*dw\n",
    "        b=b-learning_rate*db\n",
    "        parameters=(w,b)\n",
    "        \n",
    "        if(i%10==0):\n",
    "            print('iteration:',i)\n",
    "            print('cost:',cost)\n",
    "            \n",
    "        parameter=(w,b)\n",
    "    return parameter\n",
    "        "
   ]
  },
  {
   "cell_type": "code",
   "execution_count": 32,
   "metadata": {},
   "outputs": [],
   "source": [
    "def predict(X,parameters):\n",
    "    w,b=parameters\n",
    "    m=X.shape[1]\n",
    "    Z=np.dot(w.T,X)+b\n",
    "    A=softmax_activation(Z)\n",
    "    prediction=np.argmax(A,axis=0)\n",
    "    \n",
    "    return prediction\n",
    "    "
   ]
  },
  {
   "cell_type": "code",
   "execution_count": 33,
   "metadata": {},
   "outputs": [],
   "source": [
    "\n",
    "def model(x_train,y_train,x_test,y_test,n_iterations=1000,learning_rate=0.001):\n",
    "    input_size=x_train.shape[0]\n",
    "    output_size=10\n",
    "    parameter=initialize_parameters(input_size,output_size)\n",
    "    parameters=optimize(x_train,y_train,parameter,n_iterations,learning_rate)\n",
    "    y_prediction_train=predict(x_train,parameters)\n",
    "    y_prediction_test=predict(x_test,parameters)\n",
    "\n",
    "    train_acc=np.mean(np.argmax(y_train,axis=0)==y_prediction_train)*100\n",
    "    test_acc=np.mean(np.argmax(y_test,axis=0)==y_prediction_test)*100\n",
    "\n",
    "    print('train_accuracy:',train_acc)\n",
    "    print('test_accuracu:',test_acc)"
   ]
  },
  {
   "cell_type": "code",
   "execution_count": 35,
   "metadata": {},
   "outputs": [
    {
     "name": "stdout",
     "output_type": "stream",
     "text": [
      "iteration: 0\n",
      "cost: 2.3025850929940455\n",
      "train_accuracy: 67.46666666666667\n",
      "test_accuracu: 68.28999999999999\n"
     ]
    }
   ],
   "source": [
    "model(x_train,y_train,x_test,y_test,n_iterations=10,learning_rate=0.001)"
   ]
  },
  {
   "cell_type": "code",
   "execution_count": null,
   "metadata": {},
   "outputs": [],
   "source": []
  }
 ],
 "metadata": {
  "kernelspec": {
   "display_name": "Python 3",
   "language": "python",
   "name": "python3"
  },
  "language_info": {
   "codemirror_mode": {
    "name": "ipython",
    "version": 3
   },
   "file_extension": ".py",
   "mimetype": "text/x-python",
   "name": "python",
   "nbconvert_exporter": "python",
   "pygments_lexer": "ipython3",
   "version": "3.7.4"
  }
 },
 "nbformat": 4,
 "nbformat_minor": 2
}
